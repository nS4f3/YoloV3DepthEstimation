{
 "cells": [
  {
   "cell_type": "code",
   "execution_count": null,
   "metadata": {
    "colab": {
     "base_uri": "https://localhost:8080/"
    },
    "id": "wbvMlHd_QwMG",
    "outputId": "6894d492-8760-459e-bf13-ea2741001b1e"
   },
   "outputs": [],
   "source": [
    "!git clone https://github.com/ultralytics/yolov3  # clone repo\n",
    "%cd yolov3\n",
    "%pip install -qr requirements.txt  # install dependencies\n",
    "!pip install timm\n",
    "import cv2\n",
    "\n",
    "\n",
    "import matplotlib.pyplot as plt\n",
    "\n",
    "import torch\n",
    "from IPython.display import Image, clear_output  # to display images\n",
    "\n",
    "clear_output()\n",
    "print(f\"Setup complete. Using torch {torch.__version__} ({torch.cuda.get_device_properties(0).name if torch.cuda.is_available() else 'CPU'})\")"
   ]
  },
  {
   "cell_type": "code",
   "execution_count": null,
   "metadata": {
    "colab": {
     "base_uri": "https://localhost:8080/"
    },
    "id": "U8z_bqLE_d4B",
    "outputId": "06f79bee-041f-460b-da98-c8bcff5fbc6f"
   },
   "outputs": [
    {
     "name": "stdout",
     "output_type": "stream",
     "text": [
      "Collecting colorthief\n",
      "  Downloading colorthief-0.2.1-py2.py3-none-any.whl (6.1 kB)\n",
      "Requirement already satisfied: Pillow in /usr/local/lib/python3.7/dist-packages (from colorthief) (7.1.2)\n",
      "Installing collected packages: colorthief\n",
      "Successfully installed colorthief-0.2.1\n",
      "Requirement already satisfied: timm in /usr/local/lib/python3.7/dist-packages (0.4.12)\n",
      "Requirement already satisfied: torchvision in /usr/local/lib/python3.7/dist-packages (from timm) (0.10.0+cu111)\n",
      "Requirement already satisfied: torch>=1.4 in /usr/local/lib/python3.7/dist-packages (from timm) (1.9.0+cu111)\n",
      "Requirement already satisfied: typing-extensions in /usr/local/lib/python3.7/dist-packages (from torch>=1.4->timm) (3.7.4.3)\n",
      "Requirement already satisfied: pillow>=5.3.0 in /usr/local/lib/python3.7/dist-packages (from torchvision->timm) (7.1.2)\n",
      "Requirement already satisfied: numpy in /usr/local/lib/python3.7/dist-packages (from torchvision->timm) (1.19.5)\n"
     ]
    }
   ],
   "source": [
    "!pip install colorthief\n",
    "!pip install timm"
   ]
  },
  {
   "cell_type": "code",
   "execution_count": null,
   "metadata": {
    "colab": {
     "base_uri": "https://localhost:8080/"
    },
    "id": "zR9ZbuQCH7FX",
    "outputId": "746b3baf-cfbb-48bb-d405-1ff911e0dfab"
   },
   "outputs": [
    {
     "name": "stdout",
     "output_type": "stream",
     "text": [
      "Namespace(agnostic_nms=False, augment=False, classes=None, conf_thres=0.25, device='', exist_ok=False, hide_conf=False, hide_labels=False, img_size=640, iou_thres=0.45, line_thickness=3, max_det=1000, name='exp', nosave=False, project='runs/detect', save_conf=False, save_crop=False, save_txt=False, source='data/images/', update=False, view_img=False, weights=['yolov3.pt'])\n",
      "YOLOv3 🚀 v9.5.0-13-g1be3170 torch 1.9.0+cu111 CUDA:0 (Tesla K80, 11441.1875MB)\n",
      "\n",
      "Using cache found in /root/.cache/torch/hub/intel-isl_MiDaS_master\n",
      "Using cache found in /root/.cache/torch/hub/intel-isl_MiDaS_master\n",
      "Fusing layers... \n",
      "Model Summary: 261 layers, 61922845 parameters, 0 gradients\n",
      "/usr/local/lib/python3.7/dist-packages/torch/nn/functional.py:3613: UserWarning: Default upsampling behavior when mode=bilinear is changed to align_corners=False since 0.4.0. Please specify align_corners=True if the old behavior is desired. See the documentation of nn.Upsample for details.\n",
      "  \"See the documentation of nn.Upsample for details.\".format(mode)\n",
      "image 1/3 /content/yolov3/data/images/bus.jpg: 640x480 4 persons, 1 bus, Done. (0.130s)\n",
      "libpng warning: iCCP: known incorrect sRGB profile\n",
      "libpng warning: iCCP: known incorrect sRGB profile\n",
      "image 2/3 /content/yolov3/data/images/dog.jpg: 480x640 1 bicycle, 1 motorcycle, 1 truck, 1 dog, Done. (0.138s)\n",
      "image 3/3 /content/yolov3/data/images/zidane.jpg: 384x640 2 persons, 3 ties, Done. (0.141s)\n",
      "Results saved to runs/detect/exp5\n",
      "Done. (42.448s)\n"
     ]
    }
   ],
   "source": [
    "!python detect.py --weights yolov3.pt --img 640 --conf 0.25 --source data/images/\n"
   ]
  },
  {
   "cell_type": "code",
   "execution_count": null,
   "metadata": {
    "colab": {
     "base_uri": "https://localhost:8080/"
    },
    "id": "3m-KRLTIHbUY",
    "outputId": "49033f92-0b83-466b-b070-6d0d6b328092"
   },
   "outputs": [
    {
     "name": "stdout",
     "output_type": "stream",
     "text": [
      "/content/yolov3/data/images/bus.jpg\n",
      "\n",
      "In this Image there are:\n",
      "4 person\n",
      "1 bus\n",
      "\n",
      "There is a bus behind the person\n",
      "\n",
      "\n",
      ">>>>>>>>>>>>>>>>>>>>>>>>>>>>>>>>>>>\n",
      "\n",
      "\n",
      "/content/yolov3/data/images/dog.jpg\n",
      "\n",
      "In this Image there are:\n",
      "1 motorcycle\n",
      "1 bicycle\n",
      "1 truck\n",
      "1 dog\n",
      "\n",
      "There is a bicycle behind the dog\n",
      "\n",
      "\n",
      ">>>>>>>>>>>>>>>>>>>>>>>>>>>>>>>>>>>\n",
      "\n",
      "\n",
      "/content/yolov3/data/images/zidane.jpg\n",
      "\n",
      "In this Image there are:\n",
      "3 tie\n",
      "2 person\n",
      "\n",
      "There is a person behind the tie\n",
      "\n",
      "\n",
      ">>>>>>>>>>>>>>>>>>>>>>>>>>>>>>>>>>>\n",
      "\n",
      "\n"
     ]
    }
   ],
   "source": [
    "!python report.py"
   ]
  }
 ],
 "metadata": {
  "accelerator": "GPU",
  "colab": {
   "collapsed_sections": [],
   "name": "ODandDP",
   "provenance": []
  },
  "kernelspec": {
   "display_name": "Python 3",
   "language": "python",
   "name": "python3"
  },
  "language_info": {
   "codemirror_mode": {
    "name": "ipython",
    "version": 3
   },
   "file_extension": ".py",
   "mimetype": "text/x-python",
   "name": "python",
   "nbconvert_exporter": "python",
   "pygments_lexer": "ipython3",
   "version": "3.8.5"
  }
 },
 "nbformat": 4,
 "nbformat_minor": 1
}
